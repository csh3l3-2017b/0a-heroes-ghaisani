{
 "cells": [
  {
   "cell_type": "markdown",
   "metadata": {},
   "source": [
    "# Tugas 0A - TelU Legends Heroes\n",
    "IF-39-02, Febry Ghaisani (1301154576)"
   ]
  },
  {
   "cell_type": "markdown",
   "metadata": {},
   "source": [
    "Dalam hal ini, untuk melakukan operasi baca tulis file CSV menggunakan library pandas python. Pertama import library pandas."
   ]
  },
  {
   "cell_type": "code",
   "execution_count": 76,
   "metadata": {
    "collapsed": true
   },
   "outputs": [],
   "source": [
    "import pandas as pd"
   ]
  },
  {
   "cell_type": "markdown",
   "metadata": {},
   "source": [
    "Kemudian pilih file CSV yang akan dibaca. Pastikan file CSV berada dalam direktori yang sama dengan file jupyter."
   ]
  },
  {
   "cell_type": "code",
   "execution_count": 77,
   "metadata": {
    "collapsed": true
   },
   "outputs": [],
   "source": [
    "#operasi baca file csv\n",
    "df = pd.read_csv('test.csv') "
   ]
  },
  {
   "cell_type": "markdown",
   "metadata": {},
   "source": [
    "Untuk membuat DataFrame dengan kolom name dan role menggunakan perintah berikut:"
   ]
  },
  {
   "cell_type": "code",
   "execution_count": 78,
   "metadata": {
    "collapsed": true
   },
   "outputs": [],
   "source": [
    "hasil = pd.DataFrame(columns=['name','role'])"
   ]
  },
  {
   "cell_type": "markdown",
   "metadata": {},
   "source": [
    "DataFrame diatas digunakan untuk menampung hasil dari klasifikasi peran Hero. Klasifikasi yang dilakukan menggunakan perintah if...else. Sebelum masuk ke perintah if..else, akan dilakukan select data berdasarkan posisi tertentu. Contohnya kita ingin mengambil nilai move dari Hero pertama kemudian ditampung dalam variabel, maka perintah yang digunakan adalah \n",
    "move = df.iloc[0,1]\n",
    "0 artinya Hero pertama (karena index dimulai dari 0) dan 1 artinya kolom ke satu yaitu kolom movementSpeed. Dalam hal ini untuk me-klasifikasi semua Hero yang ada di dalam file test.csv maka dilakukan perulangan sebanyak jumlah Hero yang ada, yaitu 52  Hero."
   ]
  },
  {
   "cell_type": "markdown",
   "metadata": {},
   "source": [
    "Kemudian hasil klasifikasi tersebut disimpan dengan menambahkan baris baru ke DataFrame yang sudah dibuat sebelumnya. Perintah ignore_index digunakan untuk pengaturan indeks DataFrame apakah dalam menambahkan baris baru, indeks diperhatikan atau dibuang/dihiraukan."
   ]
  },
  {
   "cell_type": "code",
   "execution_count": 79,
   "metadata": {
    "collapsed": true
   },
   "outputs": [],
   "source": [
    "#perulangan untuk klasifikasi peran\n",
    "for i in range(0,52):\n",
    "    #mengambil data berdasarkan posisi\n",
    "    name = df.iloc[i,0]\n",
    "    move = df.iloc[i,1]\n",
    "    pA   = df.iloc[i,2]\n",
    "    armor = df.iloc[i,3]\n",
    "    hp   = df.iloc[i,4]\n",
    "    mana = df.iloc[i,5]\n",
    "    \n",
    "    #penentuan peran\n",
    "    if move >= 270:\n",
    "        peran = 'MARKSMAN'\n",
    "    elif mana >= 500:\n",
    "        peran = 'MAGE'\n",
    "    elif armor >= 25:\n",
    "        peran = 'TANK'\n",
    "    elif pA >= 121:\n",
    "        peran = 'ASSASSIN'\n",
    "    elif hp >= 2580:\n",
    "        peran = 'FIGHTER'\n",
    "    else:\n",
    "        peran = 'SUPPORT'\n",
    "        \n",
    "    #tambah baris\n",
    "    hasil = hasil.append({'name' : name, 'role' : peran}, ignore_index=True)"
   ]
  },
  {
   "cell_type": "markdown",
   "metadata": {},
   "source": [
    "Setelah perulangan berakhir, maka hasil ditulis dan disimpan dalam format csv dengan nama file prediction.csv. Untuk menghilangkan kolom index maka tambahkan perintah index=False."
   ]
  },
  {
   "cell_type": "code",
   "execution_count": 81,
   "metadata": {
    "collapsed": false
   },
   "outputs": [],
   "source": [
    "#operasi tulis file csv    \n",
    "hasil.to_csv('prediction.csv',index=False)"
   ]
  }
 ],
 "metadata": {
  "kernelspec": {
   "display_name": "Python 2",
   "language": "python",
   "name": "python2"
  },
  "language_info": {
   "codemirror_mode": {
    "name": "ipython",
    "version": 2
   },
   "file_extension": ".py",
   "mimetype": "text/x-python",
   "name": "python",
   "nbconvert_exporter": "python",
   "pygments_lexer": "ipython2",
   "version": "2.7.13"
  }
 },
 "nbformat": 4,
 "nbformat_minor": 2
}
